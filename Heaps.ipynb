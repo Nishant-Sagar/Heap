{
 "cells": [
  {
   "cell_type": "markdown",
   "metadata": {},
   "source": [
    "# Binary(min) Heap Implementation"
   ]
  },
  {
   "cell_type": "code",
   "execution_count": 1,
   "metadata": {},
   "outputs": [],
   "source": [
    "class BinaryHeap:\n",
    "\n",
    "    def __init__(self):\n",
    "        '''\n",
    "        heap_list[0] = 0 is a dummy value (not used)\n",
    "        '''\n",
    "        self.heap_list = [0]\n",
    "        self.size = 0\n",
    "        \n",
    "    def __str__(self):\n",
    "        return str(self.heap_list)\n",
    "    \n",
    "    def __len__(self):\n",
    "        return self.size\n",
    "    \n",
    "    def __contains__(self, item):\n",
    "        return item in self.heap_list\n",
    "    \n",
    "    def is_empty(self):\n",
    "        '''\n",
    "        compare the size attribute to 0\n",
    "        '''\n",
    "        return self.size == 0\n",
    "    \n",
    "    def find_min(self):\n",
    "        '''\n",
    "        the smallest item is at the root node (index 1)\n",
    "        '''\n",
    "        if self.size > 0:\n",
    "            min_val = self.heap_list[1]\n",
    "            return min_val\n",
    "        return None\n",
    "        \n",
    "    def insert(self, item):\n",
    "        '''\n",
    "        append the item to the end of the list (maintains complete tree property)\n",
    "        violates the heap order property\n",
    "        call percolate up to move the new item up to restore the heap order property\n",
    "        '''\n",
    "        self.heap_list.append(item)\n",
    "        self.size += 1\n",
    "        self.percolate_up(self.size)\n",
    "        \n",
    "    def del_min(self):\n",
    "        '''\n",
    "        min item in the tree is at the root\n",
    "        replace the root with the last item in the list (maintains complete tree property)\n",
    "        violates the heap order property\n",
    "        call percolate down to move the new root down to restore the heap property\n",
    "        '''\n",
    "        min_val = self.heap_list[1]\n",
    "        self.heap_list[1] = self.heap_list[self.size]\n",
    "        self.size = self.size - 1\n",
    "        self.heap_list.pop()\n",
    "        self.percolate_down(1)\n",
    "        return min_val\n",
    "\n",
    "    def min_child(self, index):\n",
    "        '''\n",
    "        return the index of the smallest child\n",
    "        if there is no right child, return the left child\n",
    "        if there are two children, return the smallest of the two\n",
    "        '''\n",
    "        if index * 2 + 1 > self.size:\n",
    "            return index * 2\n",
    "        else:\n",
    "            if self.heap_list[index * 2] < self.heap_list[index * 2 + 1]:\n",
    "                return index * 2\n",
    "            else:\n",
    "                return index * 2 + 1\n",
    "            \n",
    "    def build_heap(self, alist):\n",
    "        '''\n",
    "        build a heap from a list of keys to establish complete tree property\n",
    "        starting with the first non leaf node \n",
    "        percolate each node down to establish heap order property\n",
    "        '''\n",
    "        index = len(alist) // 2 # any nodes past the half way point are leaves\n",
    "        self.size = len(alist)\n",
    "        self.heap_list = [0] + alist[:]\n",
    "        while (index > 0):\n",
    "            self.percolate_down(index)\n",
    "            index -= 1\n",
    "        \n",
    "    def percolate_up(self, index):\n",
    "        '''\n",
    "        compare the item at index with its parent\n",
    "        if the item is less than its parent, swap!\n",
    "        continue comparing until we hit the top of tree\n",
    "        (can stop once an item is swapped into a position where it is greater than its parent)\n",
    "        '''\n",
    "        while index // 2 > 0:\n",
    "            if self.heap_list[index] < self.heap_list[index // 2]:\n",
    "                temp = self.heap_list[index // 2]\n",
    "                self.heap_list[index // 2] = self.heap_list[index]\n",
    "                self.heap_list[index] = temp\n",
    "            index //= 2\n",
    "\n",
    "    def percolate_down(self, index):\n",
    "        '''\n",
    "        compare the item at index with its smallest child\n",
    "        if the item is greater than its smallest child, swap!\n",
    "        continue continue while there are children to compare with\n",
    "        (can stop once an item is swapped into a position where it is less than both children)\n",
    "        '''\n",
    "        while (index * 2) <= self.size:\n",
    "            mc = self.min_child(index)\n",
    "            if self.heap_list[index] > self.heap_list[mc]:\n",
    "                temp = self.heap_list[index]\n",
    "                self.heap_list[index] = self.heap_list[mc]\n",
    "                self.heap_list[mc] = temp\n",
    "            index = mc\n"
   ]
  },
  {
   "cell_type": "code",
   "execution_count": 2,
   "metadata": {},
   "outputs": [
    {
     "name": "stdout",
     "output_type": "stream",
     "text": [
      "[0]\n",
      "True\n",
      "None\n",
      "10\n",
      "[0, 10, 13]\n",
      "[0, 9, 13, 10]\n",
      "9\n",
      "9\n",
      "[0, 10, 13]\n",
      "False\n",
      "[0, 2, 6, 4, 7, 9]\n",
      "5\n"
     ]
    }
   ],
   "source": [
    "h = BinaryHeap()\n",
    "print(h)\n",
    "print(h.is_empty())\n",
    "print(h.find_min())\n",
    "h.insert(10)\n",
    "print(h.find_min())\n",
    "h.insert(13)\n",
    "print(h)\n",
    "h.insert(9)\n",
    "print(h)\n",
    "print(h.find_min())\n",
    "print(h.del_min())\n",
    "print(h)\n",
    "print(h.is_empty())\n",
    "h.build_heap([4, 7, 2, 6, 9])\n",
    "print(h)\n",
    "print(len(h))"
   ]
  },
  {
   "cell_type": "markdown",
   "metadata": {},
   "source": [
    "# Operation Efficiency"
   ]
  },
  {
   "cell_type": "markdown",
   "metadata": {},
   "source": [
    "Note: the height of a heap is $floor(log_{2} N)$\n",
    "\n",
    "1. insert(item): $\\mathcal{O}(log n)$\n",
    "2. find_min(): $\\mathcal{O}(1)$\n",
    "3. delete_min(): $\\mathcal{O}(log n)$\n",
    "4. is_empty(): $\\mathcal{O}(1)$\n",
    "5. build_heap(list): $\\mathcal{O}(n)$ (for $N$ inserts)\n",
    "6. decrease_key(item, priority): $\\mathcal{O}(log n)$\n",
    "7. increase_key(item, priority): $\\mathcal{O}(log n)$\n",
    "8. remove(item): $\\mathcal{O}(log n)$\n",
    "\n",
    "Note: Because we can build the heap from a list in $\\mathcal{O}(n)$, there is a sorting algorithm called [heap sort](https://en.wikipedia.org/wiki/Heapsort/ 'Heap Sort') that utilizes a heap to achieve $\\mathcal{O}(n log n)$ sorting."
   ]
  },
  {
   "cell_type": "markdown",
   "metadata": {},
   "source": [
    "# Heap Sort"
   ]
  },
  {
   "cell_type": "markdown",
   "metadata": {},
   "source": [
    "Big picture: Build a heap from the list. Repeatedly remove the min from the list and insert into a sorted list.\n",
    "\n",
    "Algorithm:\n",
    "\n",
    "1. Build a heap from the sequence\n",
    "2. Dequeue each min m in the heap\n",
    "3. Insert m into a sorted list\n",
    "    \n",
    "Python implementation using lists:"
   ]
  },
  {
   "cell_type": "code",
   "execution_count": 3,
   "metadata": {},
   "outputs": [],
   "source": [
    "def heap_sort(array):\n",
    "\n",
    "    heap = BinaryHeap()\n",
    "    heap.build_heap(list(array))\n",
    "    i = 0\n",
    "    while not heap.is_empty():\n",
    "        smallest_value = heap.del_min()\n",
    "        array[i] = smallest_value\n",
    "        i += 1"
   ]
  },
  {
   "cell_type": "code",
   "execution_count": 5,
   "metadata": {},
   "outputs": [
    {
     "name": "stdout",
     "output_type": "stream",
     "text": [
      "[6, 7, 2, 5, 9, 1]\n",
      "[1, 2, 5, 6, 7, 9]\n"
     ]
    }
   ],
   "source": [
    "data = [6,7,2,5,9,1]\n",
    "print(data)\n",
    "heap_sort(data)\n",
    "print(data)"
   ]
  },
  {
   "cell_type": "markdown",
   "metadata": {},
   "source": [
    "# Binary(max) Heap Implementation"
   ]
  },
  {
   "cell_type": "code",
   "execution_count": 6,
   "metadata": {},
   "outputs": [],
   "source": [
    "class BinaryHeap:\n",
    "\n",
    "    def __init__(self):\n",
    "        '''\n",
    "        heap_list[0] = 0 is a dummy value (not used)\n",
    "        '''\n",
    "        self.heap_list = [0]\n",
    "        self.size = 0\n",
    "        \n",
    "    def __str__(self):\n",
    "        return str(self.heap_list)\n",
    "    \n",
    "    def __len__(self):\n",
    "        return self.size\n",
    "    \n",
    "    def __contains__(self, item):\n",
    "        return item in self.heap_list\n",
    "    \n",
    "    def is_empty(self):\n",
    "        '''\n",
    "        compare the size attribute to 0\n",
    "        '''\n",
    "        return self.size == 0\n",
    "    \n",
    "    def find_max(self):\n",
    "        '''\n",
    "        the smallest item is at the root node (index 1)\n",
    "        '''\n",
    "        if self.size > 0:\n",
    "            max_val = self.heap_list[1]\n",
    "            return max_val\n",
    "        return None\n",
    "    \n",
    "    def insert(self, item):\n",
    "        '''\n",
    "        append the item to the end of the list (maintains complete tree property)\n",
    "        violates the heap order property\n",
    "        call percolate up to move the new item up to restore the heap order property\n",
    "        '''\n",
    "        self.heap_list.append(item)\n",
    "        self.size += 1\n",
    "        self.percolate_up(self.size)\n",
    "        \n",
    "    def percolate_up(self, index):\n",
    "        '''\n",
    "        compare the item at index with its parent\n",
    "        if the item is less than its parent, swap!\n",
    "        continue comparing until we hit the top of tree\n",
    "        (can stop once an item is swapped into a position where it is greater than its parent)\n",
    "        '''\n",
    "        while index // 2 > 0:\n",
    "            if self.heap_list[index] > self.heap_list[index // 2]:\n",
    "                self.heap_list[index], self.heap_list[index//2] = self.heap_list[index//2], self.heap_list[index]\n",
    "            index //= 2\n",
    "            \n",
    "    def del_max(self):\n",
    "        '''\n",
    "        min item in the tree is at the root\n",
    "        replace the root with the last item in the list (maintains complete tree property)\n",
    "        violates the heap order property\n",
    "        call percolate down to move the new root down to restore the heap property\n",
    "        '''\n",
    "        max_val = self.heap_list[1]\n",
    "        self.heap_list[1] = self.heap_list[self.size]\n",
    "        self.size = self.size - 1\n",
    "        self.heap_list.pop()\n",
    "        self.percolate_down(1)\n",
    "        return max_val\n",
    "    \n",
    "    def max_child(self, index):\n",
    "        '''\n",
    "        return the index of the smallest child\n",
    "        if there is no right child, return the left child\n",
    "        if there are two children, return the smallest of the two\n",
    "        '''\n",
    "        if index * 2 + 1 > self.size:\n",
    "            return index * 2\n",
    "        else:\n",
    "            if self.heap_list[index * 2] > self.heap_list[index * 2 + 1]:\n",
    "                return index * 2\n",
    "            else:\n",
    "                return index * 2 + 1\n",
    "            \n",
    "    def percolate_down(self, index):\n",
    "        '''\n",
    "        compare the item at index with its smallest child\n",
    "        if the item is greater than its smallest child, swap!\n",
    "        continue continue while there are children to compare with\n",
    "        (can stop once an item is swapped into a position where it is less than both children)\n",
    "        '''\n",
    "        while (index * 2) <= self.size:\n",
    "            mc = self.max_child(index)\n",
    "            if self.heap_list[index] < self.heap_list[mc]:\n",
    "                self.heap_list[index], self.heap_list[mc] = self.heap_list[mc], self.heap_list[index]\n",
    "            index = mc\n",
    "            \n",
    "    def build_heap(self, alist):\n",
    "        '''\n",
    "        build a heap from a list of keys to establish complete tree property\n",
    "        starting with the first non leaf node \n",
    "        percolate each node down to establish heap order property\n",
    "        '''\n",
    "        index = len(alist) // 2 # any nodes past the half way point are leaves\n",
    "        self.size = len(alist)\n",
    "        self.heap_list = [0] + alist[:]\n",
    "        while (index > 0):\n",
    "            self.percolate_down(index)\n",
    "            index -= 1"
   ]
  },
  {
   "cell_type": "code",
   "execution_count": 10,
   "metadata": {},
   "outputs": [
    {
     "name": "stdout",
     "output_type": "stream",
     "text": [
      "[0, 84, 22, 10, 19, 17, 3, 6, 5, 9]\n"
     ]
    }
   ],
   "source": [
    "maxHeap = BinaryHeap()\n",
    "maxHeap.build_heap([3,5,6,9,17,10,84,19,22])\n",
    "print(maxHeap)"
   ]
  },
  {
   "cell_type": "code",
   "execution_count": 11,
   "metadata": {},
   "outputs": [
    {
     "name": "stdout",
     "output_type": "stream",
     "text": [
      "[0, 84, 22, 19, 17, 10, 5, 6, 3, 9]\n"
     ]
    }
   ],
   "source": [
    "maxHeap = BinaryHeap()\n",
    "maxHeap.insert(5) \n",
    "maxHeap.insert(3) \n",
    "maxHeap.insert(17) \n",
    "maxHeap.insert(10) \n",
    "maxHeap.insert(84) \n",
    "maxHeap.insert(19) \n",
    "maxHeap.insert(6) \n",
    "maxHeap.insert(22) \n",
    "maxHeap.insert(9)\n",
    "print(maxHeap)"
   ]
  },
  {
   "cell_type": "code",
   "execution_count": 12,
   "metadata": {},
   "outputs": [
    {
     "data": {
      "text/plain": [
       "84"
      ]
     },
     "execution_count": 12,
     "metadata": {},
     "output_type": "execute_result"
    }
   ],
   "source": [
    "maxHeap.del_max()"
   ]
  },
  {
   "cell_type": "code",
   "execution_count": 13,
   "metadata": {},
   "outputs": [
    {
     "name": "stdout",
     "output_type": "stream",
     "text": [
      "[0, 19, 17, 6, 9, 10, 5, 3]\n"
     ]
    }
   ],
   "source": [
    "maxHeap.del_max()\n",
    "print(maxHeap)"
   ]
  }
 ],
 "metadata": {
  "kernelspec": {
   "display_name": "Python 3",
   "language": "python",
   "name": "python3"
  },
  "language_info": {
   "codemirror_mode": {
    "name": "ipython",
    "version": 3
   },
   "file_extension": ".py",
   "mimetype": "text/x-python",
   "name": "python",
   "nbconvert_exporter": "python",
   "pygments_lexer": "ipython3",
   "version": "3.7.6"
  }
 },
 "nbformat": 4,
 "nbformat_minor": 4
}
